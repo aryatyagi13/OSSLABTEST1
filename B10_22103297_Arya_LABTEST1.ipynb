{
 "cells": [
  {
   "cell_type": "code",
   "execution_count": 1,
   "id": "c4023a78-9521-42c3-b823-9dfe46f43d7d",
   "metadata": {},
   "outputs": [],
   "source": [
    "import numpy as np"
   ]
  },
  {
   "cell_type": "code",
   "execution_count": 46,
   "id": "ac852b4b-0b6e-4cfe-a55f-8d81ee1412d7",
   "metadata": {},
   "outputs": [],
   "source": [
    "#chemist=[[medicine,price,quantities]]\n",
    "chemist=np.array([['al1',100,40],\n",
    "                 ['al2',200,50],\n",
    "                 ['al3',300,60],\n",
    "                 ['b1',400,70],\n",
    "                 ['b2',500,80]])"
   ]
  },
  {
   "cell_type": "code",
   "execution_count": 88,
   "id": "5fcef736-2c4a-4be7-add3-db8b98f9edcb",
   "metadata": {},
   "outputs": [],
   "source": [
    "def newitems(med,p,q):\n",
    "       np.append(chemist[med,p,q])\n"
   ]
  },
  {
   "cell_type": "code",
   "execution_count": 89,
   "id": "ef6c2309-610b-44b7-a4ff-dfa58c248019",
   "metadata": {},
   "outputs": [
    {
     "ename": "IndexError",
     "evalue": "only integers, slices (`:`), ellipsis (`...`), numpy.newaxis (`None`) and integer or boolean arrays are valid indices",
     "output_type": "error",
     "traceback": [
      "\u001b[1;31m---------------------------------------------------------------------------\u001b[0m",
      "\u001b[1;31mIndexError\u001b[0m                                Traceback (most recent call last)",
      "Cell \u001b[1;32mIn[89], line 1\u001b[0m\n\u001b[1;32m----> 1\u001b[0m newitems(\u001b[38;5;124m'\u001b[39m\u001b[38;5;124mb3\u001b[39m\u001b[38;5;124m'\u001b[39m,\u001b[38;5;241m30\u001b[39m,\u001b[38;5;241m70\u001b[39m)\n",
      "Cell \u001b[1;32mIn[88], line 2\u001b[0m, in \u001b[0;36mnewitems\u001b[1;34m(med, p, q)\u001b[0m\n\u001b[0;32m      1\u001b[0m \u001b[38;5;28;01mdef\u001b[39;00m \u001b[38;5;21mnewitems\u001b[39m(med,p,q):\n\u001b[1;32m----> 2\u001b[0m        np\u001b[38;5;241m.\u001b[39mappend(chemist[med,p,q])\n",
      "\u001b[1;31mIndexError\u001b[0m: only integers, slices (`:`), ellipsis (`...`), numpy.newaxis (`None`) and integer or boolean arrays are valid indices"
     ]
    }
   ],
   "source": [
    "  newitems('b3',30,70)"
   ]
  },
  {
   "cell_type": "code",
   "execution_count": 81,
   "id": "6fe61ed6-7a06-4b4a-9abc-10d319b79afc",
   "metadata": {},
   "outputs": [],
   "source": [
    "def update(med,q):\n",
    "    for i in chemist:\n",
    "        if((chemist[i][0])==med and q>chemist[i][2]):\n",
    "           chemist[i][2]=q-chemist[i][2];"
   ]
  },
  {
   "cell_type": "code",
   "execution_count": 100,
   "id": "87cd8dce-5020-4a45-ac90-32a161cc16b2",
   "metadata": {},
   "outputs": [],
   "source": [
    "def displayinventory():\n",
    "    print(chemist);\n",
    "    "
   ]
  },
  {
   "cell_type": "code",
   "execution_count": 97,
   "id": "1d0aaefc-f55e-405d-b3c8-770935ad3c01",
   "metadata": {},
   "outputs": [
    {
     "data": {
      "text/plain": [
       "<matplotlib.collections.PathCollection at 0x2b3dfdaa1e0>"
      ]
     },
     "execution_count": 97,
     "metadata": {},
     "output_type": "execute_result"
    },
    {
     "data": {
      "image/png": "[encoded data removed]",
      "text/plain": [
       "<Figure size 640x480 with 1 Axes>"
      ]
     },
     "metadata": {},
     "output_type": "display_data"
    }
   ],
   "source": [
    "%matplotlib inline\n",
    "from matplotlib import pyplot as plt\n",
    "plt.scatter(chemist[:,0],chemist[:,2])\n"
   ]
  },
  {
   "cell_type": "code",
   "execution_count": 93,
   "id": "156986d4-989d-4982-9cb5-8663d8f54ac6",
   "metadata": {},
   "outputs": [
    {
     "ename": "IndexError",
     "evalue": "arrays used as indices must be of integer (or boolean) type",
     "output_type": "error",
     "traceback": [
      "\u001b[1;31m---------------------------------------------------------------------------\u001b[0m",
      "\u001b[1;31mIndexError\u001b[0m                                Traceback (most recent call last)",
      "Cell \u001b[1;32mIn[93], line 1\u001b[0m\n\u001b[1;32m----> 1\u001b[0m update(\u001b[38;5;124m'\u001b[39m\u001b[38;5;124ma1\u001b[39m\u001b[38;5;124m'\u001b[39m,\u001b[38;5;241m10\u001b[39m)\n",
      "Cell \u001b[1;32mIn[81], line 3\u001b[0m, in \u001b[0;36mupdate\u001b[1;34m(med, q)\u001b[0m\n\u001b[0;32m      1\u001b[0m \u001b[38;5;28;01mdef\u001b[39;00m \u001b[38;5;21mupdate\u001b[39m(med,q):\n\u001b[0;32m      2\u001b[0m     \u001b[38;5;28;01mfor\u001b[39;00m i \u001b[38;5;129;01min\u001b[39;00m chemist:\n\u001b[1;32m----> 3\u001b[0m         \u001b[38;5;28;01mif\u001b[39;00m((chemist[i][\u001b[38;5;241m0\u001b[39m])\u001b[38;5;241m==\u001b[39mmed \u001b[38;5;129;01mand\u001b[39;00m q\u001b[38;5;241m>\u001b[39mchemist[i][\u001b[38;5;241m2\u001b[39m]):\n\u001b[0;32m      4\u001b[0m            chemist[i][\u001b[38;5;241m2\u001b[39m]\u001b[38;5;241m=\u001b[39mq\u001b[38;5;241m-\u001b[39mchemist[i][\u001b[38;5;241m2\u001b[39m]\n",
      "\u001b[1;31mIndexError\u001b[0m: arrays used as indices must be of integer (or boolean) type"
     ]
    }
   ],
   "source": [
    "update('a1',10)"
   ]
  },
  {
   "cell_type": "code",
   "execution_count": 101,
   "id": "bb66fd3e-9835-4692-9024-37ee7a40efba",
   "metadata": {},
   "outputs": [
    {
     "name": "stdout",
     "output_type": "stream",
     "text": [
      "[['al1' '100' '40']\n",
      " ['al2' '200' '50']\n",
      " ['al3' '300' '60']\n",
      " ['b1' '400' '70']\n",
      " ['b2' '500' '80']]\n"
     ]
    }
   ],
   "source": [
    "displayinventory()"
   ]
  },
  {
   "cell_type": "code",
   "execution_count": null,
   "id": "a791fc60-c028-4d66-bfb9-0285774f16ee",
   "metadata": {},
   "outputs": [],
   "source": []
  }
 ],
 "metadata": {
  "kernelspec": {
   "display_name": "Python 3 (ipykernel)",
   "language": "python",
   "name": "python3"
  },
  "language_info": {
   "codemirror_mode": {
    "name": "ipython",
    "version": 3
   },
   "file_extension": ".py",
   "mimetype": "text/x-python",
   "name": "python",
   "nbconvert_exporter": "python",
   "pygments_lexer": "ipython3",
   "version": "3.12.4"
  }
 },
 "nbformat": 4,
 "nbformat_minor": 5
}
